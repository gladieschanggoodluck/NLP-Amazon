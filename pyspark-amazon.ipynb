{
 "cells": [
  {
   "cell_type": "code",
   "execution_count": 3,
   "metadata": {},
   "outputs": [],
   "source": [
    "import json"
   ]
  },
  {
   "cell_type": "code",
   "execution_count": 4,
   "metadata": {},
   "outputs": [],
   "source": [
    "# from pyspark import SparkContext\n",
    "# sc = SparkContext.getOrCreate()"
   ]
  },
  {
   "cell_type": "code",
   "execution_count": 5,
   "metadata": {},
   "outputs": [],
   "source": [
    "import os\n",
    "from pyspark.sql import SparkSession\n",
    "spark = SparkSession.builder.getOrCreate()"
   ]
  },
  {
   "cell_type": "code",
   "execution_count": 6,
   "metadata": {},
   "outputs": [],
   "source": [
    "from numpy import array\n",
    "from math import sqrt\n",
    "\n",
    "from pyspark.mllib.clustering import KMeans, KMeansModel\n",
    "\n",
    "# Load and parse the data\n",
    "# Read data in json format\n",
    "df = spark.read.json(\"Movies_and_TV_5.json\")"
   ]
  },
  {
   "cell_type": "code",
   "execution_count": 4,
   "metadata": {},
   "outputs": [],
   "source": [
    "from pyspark import SparkContext\n",
    "from pyspark.sql.types import *\n",
    "from pyspark.sql import SparkSession\n",
    "from pyspark.sql.functions import col, lit\n",
    "from functools import reduce\n",
    "import nltk\n",
    "from nltk.corpus import stopwords\n",
    "from nltk.stem import WordNetLemmatizer\n",
    "import matplotlib.pyplot as plt\n",
    "from wordcloud import WordCloud \n",
    "import pandas as pd\n",
    "import re\n",
    "import string"
   ]
  },
  {
   "cell_type": "code",
   "execution_count": 5,
   "metadata": {},
   "outputs": [
    {
     "name": "stdout",
     "output_type": "stream",
     "text": [
      "+----------+-------+-------+--------------------+-----------+--------------+--------------------+--------------------+--------------+\n",
      "|      asin|helpful|overall|          reviewText| reviewTime|    reviewerID|        reviewerName|             summary|unixReviewTime|\n",
      "+----------+-------+-------+--------------------+-----------+--------------+--------------------+--------------------+--------------+\n",
      "|0005019281| [0, 0]|    4.0|This is a charmin...|02 26, 2008| ADZPIG9QOCDG5|Alice L. Larson \"...|good version of a...|    1203984000|\n",
      "|0005019281| [0, 0]|    3.0|It was good but n...|12 30, 2013|A35947ZP82G7JH|       Amarah Strack|Good but not as m...|    1388361600|\n",
      "|0005019281| [0, 0]|    3.0|Don't get me wron...|12 30, 2013|A3UORV8A9D5L2E|     Amazon Customer|Winkler's Perform...|    1388361600|\n",
      "|0005019281| [0, 0]|    5.0|Henry Winkler is ...|02 13, 2008|A1VKW06X1O2X7V|Amazon Customer \"...|It's an enjoyable...|    1202860800|\n",
      "|0005019281| [0, 0]|    4.0|This is one of th...|12 22, 2013|A3R27T4HADWFFJ|                BABE|    Best Scrooge yet|    1387670400|\n",
      "+----------+-------+-------+--------------------+-----------+--------------+--------------------+--------------------+--------------+\n",
      "only showing top 5 rows\n",
      "\n"
     ]
    }
   ],
   "source": [
    "df.show(5)"
   ]
  },
  {
   "cell_type": "code",
   "execution_count": 6,
   "metadata": {},
   "outputs": [],
   "source": [
    "import json\n",
    "import pandas as pd\n",
    "data_df = pd.read_json('Movies_and_TV_5.json', lines=True)"
   ]
  },
  {
   "cell_type": "code",
   "execution_count": 7,
   "metadata": {},
   "outputs": [
    {
     "data": {
      "text/html": [
       "<div>\n",
       "<style scoped>\n",
       "    .dataframe tbody tr th:only-of-type {\n",
       "        vertical-align: middle;\n",
       "    }\n",
       "\n",
       "    .dataframe tbody tr th {\n",
       "        vertical-align: top;\n",
       "    }\n",
       "\n",
       "    .dataframe thead th {\n",
       "        text-align: right;\n",
       "    }\n",
       "</style>\n",
       "<table border=\"1\" class=\"dataframe\">\n",
       "  <thead>\n",
       "    <tr style=\"text-align: right;\">\n",
       "      <th></th>\n",
       "      <th>reviewerID</th>\n",
       "      <th>asin</th>\n",
       "      <th>reviewerName</th>\n",
       "      <th>helpful</th>\n",
       "      <th>reviewText</th>\n",
       "      <th>overall</th>\n",
       "      <th>summary</th>\n",
       "      <th>unixReviewTime</th>\n",
       "      <th>reviewTime</th>\n",
       "    </tr>\n",
       "  </thead>\n",
       "  <tbody>\n",
       "    <tr>\n",
       "      <td>0</td>\n",
       "      <td>ADZPIG9QOCDG5</td>\n",
       "      <td>0005019281</td>\n",
       "      <td>Alice L. Larson \"alice-loves-books\"</td>\n",
       "      <td>[0, 0]</td>\n",
       "      <td>This is a charming version of the classic Dick...</td>\n",
       "      <td>4</td>\n",
       "      <td>good version of a classic</td>\n",
       "      <td>1203984000</td>\n",
       "      <td>02 26, 2008</td>\n",
       "    </tr>\n",
       "    <tr>\n",
       "      <td>1</td>\n",
       "      <td>A35947ZP82G7JH</td>\n",
       "      <td>0005019281</td>\n",
       "      <td>Amarah Strack</td>\n",
       "      <td>[0, 0]</td>\n",
       "      <td>It was good but not as emotionally moving as t...</td>\n",
       "      <td>3</td>\n",
       "      <td>Good but not as moving</td>\n",
       "      <td>1388361600</td>\n",
       "      <td>12 30, 2013</td>\n",
       "    </tr>\n",
       "    <tr>\n",
       "      <td>2</td>\n",
       "      <td>A3UORV8A9D5L2E</td>\n",
       "      <td>0005019281</td>\n",
       "      <td>Amazon Customer</td>\n",
       "      <td>[0, 0]</td>\n",
       "      <td>Don't get me wrong, Winkler is a wonderful cha...</td>\n",
       "      <td>3</td>\n",
       "      <td>Winkler's Performance was ok at best!</td>\n",
       "      <td>1388361600</td>\n",
       "      <td>12 30, 2013</td>\n",
       "    </tr>\n",
       "    <tr>\n",
       "      <td>3</td>\n",
       "      <td>A1VKW06X1O2X7V</td>\n",
       "      <td>0005019281</td>\n",
       "      <td>Amazon Customer \"Softmill\"</td>\n",
       "      <td>[0, 0]</td>\n",
       "      <td>Henry Winkler is very good in this twist on th...</td>\n",
       "      <td>5</td>\n",
       "      <td>It's an enjoyable twist on the classic story</td>\n",
       "      <td>1202860800</td>\n",
       "      <td>02 13, 2008</td>\n",
       "    </tr>\n",
       "    <tr>\n",
       "      <td>4</td>\n",
       "      <td>A3R27T4HADWFFJ</td>\n",
       "      <td>0005019281</td>\n",
       "      <td>BABE</td>\n",
       "      <td>[0, 0]</td>\n",
       "      <td>This is one of the best Scrooge movies out.  H...</td>\n",
       "      <td>4</td>\n",
       "      <td>Best Scrooge yet</td>\n",
       "      <td>1387670400</td>\n",
       "      <td>12 22, 2013</td>\n",
       "    </tr>\n",
       "    <tr>\n",
       "      <td>...</td>\n",
       "      <td>...</td>\n",
       "      <td>...</td>\n",
       "      <td>...</td>\n",
       "      <td>...</td>\n",
       "      <td>...</td>\n",
       "      <td>...</td>\n",
       "      <td>...</td>\n",
       "      <td>...</td>\n",
       "      <td>...</td>\n",
       "    </tr>\n",
       "    <tr>\n",
       "      <td>1697528</td>\n",
       "      <td>AV657BUYHHXZ2</td>\n",
       "      <td>B00LT1JHLW</td>\n",
       "      <td>Mike Rules \"Mike\"</td>\n",
       "      <td>[1, 14]</td>\n",
       "      <td>wow $269.99 for the entire series on Blu Ray??...</td>\n",
       "      <td>1</td>\n",
       "      <td>Way to Expensive!! WB = GREED</td>\n",
       "      <td>1406073600</td>\n",
       "      <td>07 23, 2014</td>\n",
       "    </tr>\n",
       "    <tr>\n",
       "      <td>1697529</td>\n",
       "      <td>A17W587EH23J0Q</td>\n",
       "      <td>B00LT1JHLW</td>\n",
       "      <td>Ron2900 \"Ron\"</td>\n",
       "      <td>[32, 48]</td>\n",
       "      <td>Finally, the holy grail of tv-on-dvd boxsets i...</td>\n",
       "      <td>5</td>\n",
       "      <td>HOLY BAT-BOXSET, BATMAN... I never thought thi...</td>\n",
       "      <td>1405641600</td>\n",
       "      <td>07 18, 2014</td>\n",
       "    </tr>\n",
       "    <tr>\n",
       "      <td>1697530</td>\n",
       "      <td>A3DE438TF1A958</td>\n",
       "      <td>B00LT1JHLW</td>\n",
       "      <td>thomas henry</td>\n",
       "      <td>[3, 10]</td>\n",
       "      <td>Could this be a true or I'm i dreaming batman ...</td>\n",
       "      <td>5</td>\n",
       "      <td>prayers have been answered because batman 60s ...</td>\n",
       "      <td>1405728000</td>\n",
       "      <td>07 19, 2014</td>\n",
       "    </tr>\n",
       "    <tr>\n",
       "      <td>1697531</td>\n",
       "      <td>A2RWCXDMANY0LW</td>\n",
       "      <td>B00LT1JHLW</td>\n",
       "      <td>wheev</td>\n",
       "      <td>[0, 4]</td>\n",
       "      <td>I've been a fan of the series since I was a yo...</td>\n",
       "      <td>5</td>\n",
       "      <td>can't Wait!</td>\n",
       "      <td>1405987200</td>\n",
       "      <td>07 22, 2014</td>\n",
       "    </tr>\n",
       "    <tr>\n",
       "      <td>1697532</td>\n",
       "      <td>A3ROPC55BE2OM9</td>\n",
       "      <td>B00LT1JHLW</td>\n",
       "      <td>WingLT</td>\n",
       "      <td>[11, 23]</td>\n",
       "      <td>People seriously need to wake up and realize t...</td>\n",
       "      <td>5</td>\n",
       "      <td>The Price is Insane? People Really Need to Wak...</td>\n",
       "      <td>1405728000</td>\n",
       "      <td>07 19, 2014</td>\n",
       "    </tr>\n",
       "  </tbody>\n",
       "</table>\n",
       "<p>1697533 rows × 9 columns</p>\n",
       "</div>"
      ],
      "text/plain": [
       "             reviewerID        asin                         reviewerName  \\\n",
       "0         ADZPIG9QOCDG5  0005019281  Alice L. Larson \"alice-loves-books\"   \n",
       "1        A35947ZP82G7JH  0005019281                        Amarah Strack   \n",
       "2        A3UORV8A9D5L2E  0005019281                      Amazon Customer   \n",
       "3        A1VKW06X1O2X7V  0005019281           Amazon Customer \"Softmill\"   \n",
       "4        A3R27T4HADWFFJ  0005019281                                 BABE   \n",
       "...                 ...         ...                                  ...   \n",
       "1697528   AV657BUYHHXZ2  B00LT1JHLW                    Mike Rules \"Mike\"   \n",
       "1697529  A17W587EH23J0Q  B00LT1JHLW                        Ron2900 \"Ron\"   \n",
       "1697530  A3DE438TF1A958  B00LT1JHLW                         thomas henry   \n",
       "1697531  A2RWCXDMANY0LW  B00LT1JHLW                                wheev   \n",
       "1697532  A3ROPC55BE2OM9  B00LT1JHLW                               WingLT   \n",
       "\n",
       "          helpful                                         reviewText  overall  \\\n",
       "0          [0, 0]  This is a charming version of the classic Dick...        4   \n",
       "1          [0, 0]  It was good but not as emotionally moving as t...        3   \n",
       "2          [0, 0]  Don't get me wrong, Winkler is a wonderful cha...        3   \n",
       "3          [0, 0]  Henry Winkler is very good in this twist on th...        5   \n",
       "4          [0, 0]  This is one of the best Scrooge movies out.  H...        4   \n",
       "...           ...                                                ...      ...   \n",
       "1697528   [1, 14]  wow $269.99 for the entire series on Blu Ray??...        1   \n",
       "1697529  [32, 48]  Finally, the holy grail of tv-on-dvd boxsets i...        5   \n",
       "1697530   [3, 10]  Could this be a true or I'm i dreaming batman ...        5   \n",
       "1697531    [0, 4]  I've been a fan of the series since I was a yo...        5   \n",
       "1697532  [11, 23]  People seriously need to wake up and realize t...        5   \n",
       "\n",
       "                                                   summary  unixReviewTime  \\\n",
       "0                                good version of a classic      1203984000   \n",
       "1                                   Good but not as moving      1388361600   \n",
       "2                    Winkler's Performance was ok at best!      1388361600   \n",
       "3             It's an enjoyable twist on the classic story      1202860800   \n",
       "4                                         Best Scrooge yet      1387670400   \n",
       "...                                                    ...             ...   \n",
       "1697528                      Way to Expensive!! WB = GREED      1406073600   \n",
       "1697529  HOLY BAT-BOXSET, BATMAN... I never thought thi...      1405641600   \n",
       "1697530  prayers have been answered because batman 60s ...      1405728000   \n",
       "1697531                                        can't Wait!      1405987200   \n",
       "1697532  The Price is Insane? People Really Need to Wak...      1405728000   \n",
       "\n",
       "          reviewTime  \n",
       "0        02 26, 2008  \n",
       "1        12 30, 2013  \n",
       "2        12 30, 2013  \n",
       "3        02 13, 2008  \n",
       "4        12 22, 2013  \n",
       "...              ...  \n",
       "1697528  07 23, 2014  \n",
       "1697529  07 18, 2014  \n",
       "1697530  07 19, 2014  \n",
       "1697531  07 22, 2014  \n",
       "1697532  07 19, 2014  \n",
       "\n",
       "[1697533 rows x 9 columns]"
      ]
     },
     "execution_count": 7,
     "metadata": {},
     "output_type": "execute_result"
    }
   ],
   "source": [
    "data_df"
   ]
  },
  {
   "cell_type": "code",
   "execution_count": 8,
   "metadata": {},
   "outputs": [
    {
     "data": {
      "text/plain": [
       "<seaborn.axisgrid.PairGrid at 0x284a3e30978>"
      ]
     },
     "execution_count": 8,
     "metadata": {},
     "output_type": "execute_result"
    }
   ],
   "source": [
    "import seaborn as sns\n",
    "sns.pairplot(data_df)"
   ]
  },
  {
   "cell_type": "code",
   "execution_count": 9,
   "metadata": {},
   "outputs": [
    {
     "data": {
      "image/png": "[encoded data removed]",
      "text/plain": [
       "<Figure size 432x288 with 1 Axes>"
      ]
     },
     "metadata": {
      "needs_background": "light"
     },
     "output_type": "display_data"
    }
   ],
   "source": [
    "from matplotlib import pyplot as plt\n",
    "sns.distplot(data_df['overall'],kde = False)\n",
    "plt.show()"
   ]
  },
  {
   "cell_type": "code",
   "execution_count": 10,
   "metadata": {},
   "outputs": [
    {
     "data": {
      "text/plain": [
       "reviewerID        1697533\n",
       "asin              1697533\n",
       "reviewerName      1691457\n",
       "helpful           1697533\n",
       "reviewText        1697533\n",
       "overall           1697533\n",
       "summary           1697533\n",
       "unixReviewTime    1697533\n",
       "reviewTime        1697533\n",
       "dtype: int64"
      ]
     },
     "execution_count": 10,
     "metadata": {},
     "output_type": "execute_result"
    }
   ],
   "source": [
    "data_df.count()"
   ]
  },
  {
   "cell_type": "code",
   "execution_count": 11,
   "metadata": {},
   "outputs": [],
   "source": [
    "from pyspark.sql.types import *\n",
    "from pyspark.sql.functions import col, lit\n",
    "from functools import reduce\n",
    "import nltk\n",
    "from nltk.corpus import stopwords\n",
    "from nltk.stem import WordNetLemmatizer\n",
    "import matplotlib.pyplot as plt\n",
    "from wordcloud import WordCloud \n",
    "import pandas as pd\n",
    "import re\n",
    "import string"
   ]
  },
  {
   "cell_type": "code",
   "execution_count": 12,
   "metadata": {},
   "outputs": [
    {
     "name": "stdout",
     "output_type": "stream",
     "text": [
      "root\n",
      " |-- asin: string (nullable = true)\n",
      " |-- helpful: array (nullable = true)\n",
      " |    |-- element: long (containsNull = true)\n",
      " |-- overall: double (nullable = true)\n",
      " |-- reviewText: string (nullable = true)\n",
      " |-- reviewTime: string (nullable = true)\n",
      " |-- reviewerID: string (nullable = true)\n",
      " |-- reviewerName: string (nullable = true)\n",
      " |-- summary: string (nullable = true)\n",
      " |-- unixReviewTime: long (nullable = true)\n",
      "\n"
     ]
    }
   ],
   "source": [
    "df.printSchema()"
   ]
  },
  {
   "cell_type": "code",
   "execution_count": 25,
   "metadata": {},
   "outputs": [],
   "source": [
    "df_n = df.select(\"reviewText\")"
   ]
  },
  {
   "cell_type": "code",
   "execution_count": 14,
   "metadata": {},
   "outputs": [
    {
     "name": "stdout",
     "output_type": "stream",
     "text": [
      "+-------+------------------+\n",
      "|summary|           overall|\n",
      "+-------+------------------+\n",
      "|  count|           1697533|\n",
      "|   mean| 4.110648217148062|\n",
      "| stddev|1.1976147523955183|\n",
      "|    min|               1.0|\n",
      "|    max|               5.0|\n",
      "+-------+------------------+\n",
      "\n"
     ]
    }
   ],
   "source": [
    "df.describe(\"overall\").show()"
   ]
  },
  {
   "cell_type": "markdown",
   "metadata": {},
   "source": [
    "## Remove netutal: overall = 3"
   ]
  },
  {
   "cell_type": "code",
   "execution_count": 33,
   "metadata": {},
   "outputs": [],
   "source": [
    "df1 = df.filter(\"overall != 3\")"
   ]
  },
  {
   "cell_type": "code",
   "execution_count": 34,
   "metadata": {},
   "outputs": [],
   "source": [
    "from pyspark.ml.feature import Bucketizer\n",
    "splits = [-float(\"inf\"), 4, float(\"inf\")]\n",
    "bucketizer = Bucketizer(splits=splits, inputCol=\"overall\", outputCol=\"label\")"
   ]
  },
  {
   "cell_type": "code",
   "execution_count": 35,
   "metadata": {},
   "outputs": [],
   "source": [
    "df2= bucketizer.transform(df1)"
   ]
  },
  {
   "cell_type": "code",
   "execution_count": 42,
   "metadata": {},
   "outputs": [
    {
     "name": "stdout",
     "output_type": "stream",
     "text": [
      "+-------+-----+------+\n",
      "|overall|label| count|\n",
      "+-------+-----+------+\n",
      "|    2.0|  0.0|102410|\n",
      "|    5.0|  1.0|906608|\n",
      "|    1.0|  0.0|104219|\n",
      "|    4.0|  1.0|382994|\n",
      "+-------+-----+------+\n",
      "\n"
     ]
    }
   ],
   "source": [
    "df2.groupBy(\"overall\",\"label\").count().show()"
   ]
  },
  {
   "cell_type": "code",
   "execution_count": 50,
   "metadata": {},
   "outputs": [
    {
     "name": "stdout",
     "output_type": "stream",
     "text": [
      "+--------------------+-----+-----+\n",
      "|          reviewText|label|count|\n",
      "+--------------------+-----+-----+\n",
      "|This is one of my...|  1.0|    1|\n",
      "|Great great great...|  1.0|    1|\n",
      "|The story: pricel...|  1.0|    1|\n",
      "|Good depiction an...|  1.0|    1|\n",
      "|This is a fantast...|  1.0|    1|\n",
      "|A beautiful trans...|  1.0|    1|\n",
      "|i have to say tha...|  1.0|    1|\n",
      "|Comes on two DVD'...|  1.0|    1|\n",
      "|Karajan had an ea...|  1.0|    1|\n",
      "|This one should b...|  1.0|    1|\n",
      "|My then 2 year ol...|  1.0|    1|\n",
      "|This is a powerfu...|  1.0|    1|\n",
      "|\"From the Earth t...|  1.0|    1|\n",
      "|\"New Nightmare\",i...|  1.0|    1|\n",
      "|\"Poetry in Motion...|  1.0|    1|\n",
      "|\"Seven\" is one of...|  1.0|    1|\n",
      "|&quot;Scarface&qu...|  1.0|    1|\n",
      "|&quot;Stir of Ech...|  1.0|    1|\n",
      "|'American Psycho'...|  0.0|    1|\n",
      "|(4 stars is gener...|  1.0|    1|\n",
      "+--------------------+-----+-----+\n",
      "only showing top 20 rows\n",
      "\n"
     ]
    }
   ],
   "source": [
    "df3 = df2.groupBy(\"reviewText\",\"label\").count().show()"
   ]
  },
  {
   "cell_type": "markdown",
   "metadata": {},
   "source": [
    "## train, test split"
   ]
  },
  {
   "cell_type": "code",
   "execution_count": 56,
   "metadata": {},
   "outputs": [],
   "source": [
    "tokenizer = Tokenizer(inputCol=\"reviewText\", outputCol=\"reviewTokenUF\")\n",
    "regexTokenizer = RegexTokenizer(inputCol=\"reviewText\", outputCol=\"reviewTokenUF\", pattern=\"\\\\s+|[,.()\\\"]\")"
   ]
  },
  {
   "cell_type": "code",
   "execution_count": 57,
   "metadata": {},
   "outputs": [],
   "source": [
    "df_tokenized = tokenizer.transform(df2)"
   ]
  },
  {
   "cell_type": "code",
   "execution_count": 62,
   "metadata": {},
   "outputs": [],
   "source": [
    "from pyspark.ml.feature import StopWordsRemover\n",
    "remover = StopWordsRemover(inputCol=\"reviewTokenUF\", outputCol=\"filtered\")"
   ]
  },
  {
   "cell_type": "code",
   "execution_count": 63,
   "metadata": {},
   "outputs": [],
   "source": [
    "df_removed = remover.transform(df_tokenized)"
   ]
  },
  {
   "cell_type": "code",
   "execution_count": 64,
   "metadata": {},
   "outputs": [],
   "source": [
    "# Convert to TF words vector\n",
    "hashingTF = HashingTF(inputCol=\"filtered\", outputCol=\"rawFeatures\")\n",
    "df_TF = hashingTF.transform(df_removed)"
   ]
  },
  {
   "cell_type": "code",
   "execution_count": 65,
   "metadata": {},
   "outputs": [],
   "source": [
    "# Convert to TF*IDF words vector\n",
    "idf = IDF(inputCol=\"rawFeatures\", outputCol=\"features\")\n",
    "idfModel = idf.fit(df_TF)\n",
    "df_idf = idfModel.transform(df_TF)"
   ]
  },
  {
   "cell_type": "code",
   "execution_count": 66,
   "metadata": {},
   "outputs": [
    {
     "name": "stdout",
     "output_type": "stream",
     "text": [
      "Row(features=SparseVector(262144, {5795: 5.9329, 27787: 4.9392, 44041: 5.9536, 47032: 2.8373, 48089: 8.3351, 67984: 6.3346, 89717: 2.0029, 91935: 6.064, 92646: 3.9549, 113432: 1.3503, 115917: 2.262, 122798: 5.0026, 125892: 4.3854, 135276: 4.7134, 138078: 4.1405, 140931: 2.2081, 163689: 4.114, 174966: 1.7041, 186480: 3.4438, 197339: 2.7163, 210606: 4.1782, 212508: 2.9263, 218882: 3.6636, 239740: 6.9996, 249180: 2.4182, 250475: 2.3903, 260996: 8.2678}), label=1.0)\n",
      "Row(features=SparseVector(262144, {5795: 2.9664, 35028: 3.3592, 67984: 6.3346, 107367: 2.6081, 107925: 5.8062, 113432: 1.3503, 115518: 4.5434, 122120: 6.0362, 122798: 5.0026, 126899: 6.6256, 135533: 2.6013, 170993: 1.7087, 212508: 2.9263, 218834: 3.4357, 260027: 6.1956}), label=1.0)\n",
      "Row(features=SparseVector(262144, {4200: 2.4711, 22641: 7.9475, 26052: 4.6371, 63443: 2.9669, 67984: 6.3346, 117481: 2.8162, 121200: 2.1118, 122798: 5.0026, 123874: 3.698, 125372: 0.9988, 166027: 1.9147, 174144: 5.0749, 181565: 4.1803, 204596: 7.7904, 213140: 7.2734, 249180: 1.6121}), label=1.0)\n"
     ]
    }
   ],
   "source": [
    "for features_label in df_idf.select(\"features\", \"label\").take(3):\n",
    "    print(features_label)"
   ]
  },
  {
   "cell_type": "markdown",
   "metadata": {},
   "source": [
    "# split data"
   ]
  },
  {
   "cell_type": "code",
   "execution_count": 75,
   "metadata": {},
   "outputs": [],
   "source": [
    "# Split data aproximately into training (80%) and test (20%)\n",
    "# train, test =df2.randomSplit([0.8,0.2], seed = 1234)"
   ]
  },
  {
   "cell_type": "code",
   "execution_count": null,
   "metadata": {},
   "outputs": [],
   "source": []
  }
 ],
 "metadata": {
  "kernelspec": {
   "display_name": "Python 3",
   "language": "python",
   "name": "python3"
  },
  "language_info": {
   "codemirror_mode": {
    "name": "ipython",
    "version": 3
   },
   "file_extension": ".py",
   "mimetype": "text/x-python",
   "name": "python",
   "nbconvert_exporter": "python",
   "pygments_lexer": "ipython3",
   "version": "3.7.1"
  }
 },
 "nbformat": 4,
 "nbformat_minor": 2
}
